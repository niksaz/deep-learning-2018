{
 "cells": [
  {
   "cell_type": "markdown",
   "metadata": {},
   "source": [
    "soft deadline: 30.09.2018 at 23.59\n",
    "\n",
    "hard deadline: 2.09.2018 at 23.59"
   ]
  },
  {
   "cell_type": "markdown",
   "metadata": {},
   "source": [
    "## Task: Implement ResNext"
   ]
  },
  {
   "cell_type": "markdown",
   "metadata": {},
   "source": [
    "Since we still didn't settle with computational power I'll try to dedicate this homework mostly to code style practies in designing neural networks and doing so particulary in pytorch. "
   ]
  },
  {
   "cell_type": "markdown",
   "metadata": {},
   "source": [
    "Reqirements:\n",
    "* NO JUPYTER! Homework should be a valid pip package.\n",
    "See <https://the-hitchhikers-guide-to-packaging.readthedocs.io/en/latest/quickstart.html>, steps 1-3\n",
    "* Add at least one test using forward pass with random data\n",
    "You can find this useful <https://docs.pytest.org/en/latest/>\n",
    "* Architecure should be similar to `torchvision/models/resnet.py`\n",
    "You are basically asked to replace ResNet residual block with the block of your own\n",
    "* I suggest inplementing Trainer class, being able to train network regardless of the architecure\n",
    "* * Trainer should provide loss logging into tensorboardX\n",
    "* No stdout, only logging\n",
    "* Model should be able to load from the pretrained weights\n",
    "* For architecture reference visit <https://arxiv.org/abs/1611.05431>\n",
    "* I'm okay with you searching on the github for source code examples and best practices, but I sure will notice lazy copy-paste :)\n",
    "    "
   ]
  }
 ],
 "metadata": {
  "kernelspec": {
   "display_name": "Python 3",
   "language": "python",
   "name": "python3"
  },
  "language_info": {
   "codemirror_mode": {
    "name": "ipython",
    "version": 3
   },
   "file_extension": ".py",
   "mimetype": "text/x-python",
   "name": "python",
   "nbconvert_exporter": "python",
   "pygments_lexer": "ipython3",
   "version": "3.6.4"
  }
 },
 "nbformat": 4,
 "nbformat_minor": 2
}
